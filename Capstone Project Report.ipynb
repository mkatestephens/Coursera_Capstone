{
    "cells": [
        {
            "metadata": {
                "collapsed": true
            },
            "cell_type": "markdown",
            "source": "# Intro / Business Problem"
        },
        {
            "metadata": {},
            "cell_type": "markdown",
            "source": "#### Around five million people die every year \u2014 almost a third of them in India\u2014 due to inadequate healthcare (Times of India). Your organization has raised significant funds to open a free health clinic in Mumbai, the largest city in India, to help reduce deaths that could be avoided with proper healthcare. Mumbai is a huge city, but you currently only have funding to open one free clinic. Which neighborhood of Mumbai most needs this assistance?"
        },
        {
            "metadata": {},
            "cell_type": "markdown",
            "source": "# Data"
        },
        {
            "metadata": {},
            "cell_type": "markdown",
            "source": "#### To answer this question, I will use the data from two different sources:\n\n#### The first is geolocation data website Foursquare, which will allow me to see where all the clinics and hospitals are located in Mumbai and how well they are rated. \n\n#### The second is 99 Acres, an Indian real estate database website. I will look at property values across the neighborhoods of Mumbai, and then I will assume that average property value and average income are directly related. Found here: https://www.99acres.com/property-rates-and-price-trends-in-mumbai\n\n#### I will then cluster neighborhoods by average income and healthcare venues. I will suggest neighborhoods with lowest income, least healthcare options, and most poorly rated health care options to be the location for the free health clinic."
        },
        {
            "metadata": {},
            "cell_type": "code",
            "source": "",
            "execution_count": null,
            "outputs": []
        }
    ],
    "metadata": {
        "kernelspec": {
            "name": "python3",
            "display_name": "Python 3.6",
            "language": "python"
        },
        "language_info": {
            "name": "python",
            "version": "3.6.9",
            "mimetype": "text/x-python",
            "codemirror_mode": {
                "name": "ipython",
                "version": 3
            },
            "pygments_lexer": "ipython3",
            "nbconvert_exporter": "python",
            "file_extension": ".py"
        }
    },
    "nbformat": 4,
    "nbformat_minor": 1
}